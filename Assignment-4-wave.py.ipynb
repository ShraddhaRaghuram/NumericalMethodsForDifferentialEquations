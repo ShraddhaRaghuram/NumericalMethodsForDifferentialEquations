{
 "cells": [
  {
   "cell_type": "code",
   "execution_count": 1,
   "id": "cef866f1",
   "metadata": {},
   "outputs": [],
   "source": [
    "import numpy as np\n",
    "import matplotlib.pyplot as plt\n",
    "import matplotlib.animation as animation\n",
    "import scipy.sparse as sp\n",
    "import scipy.sparse.linalg as la"
   ]
  },
  {
   "cell_type": "code",
   "execution_count": 2,
   "id": "0e9a6a15",
   "metadata": {},
   "outputs": [],
   "source": [
    "#3.2 Implementation and Numerical Experiments\n",
    "LeftX = 0.0\n",
    "RightX = 10.0\n",
    "LeftY = 0.0\n",
    "RightY = 5.0\n",
    "Nx = 200 # number of intervals in x-direction\n",
    "Ny = 100 # number of intervals in y-direction\n",
    "dx = (RightX-LeftX)/Nx # grid step in x-direction\n",
    "dy =(RightY-LeftY)/Ny # grid step in y-direction\n",
    "Lx=10.0 #same as rightx but im lazy to change Lx in an equation I already typed\n",
    "Ly=5.0 #same as righty"
   ]
  },
  {
   "cell_type": "code",
   "execution_count": 3,
   "id": "6e7323c4",
   "metadata": {},
   "outputs": [],
   "source": [
    "#1.\n",
    "def sourcefunc(x,y,t):\n",
    "    f=-np.sin(4*np.pi*t)*(np.exp(-40.0*(((x-0.25*Lx)*(x-0.25*Lx))+((y-0.25*Ly)*(y-0.25*Ly))))+np.exp(-40.0*(((x-0.25*Lx)*(x-0.25*Lx))+((y-0.75*Ly)*(y-0.75*Ly))))+np.exp(-40.0*(((x-0.75*Lx)*(x-0.75*Lx))+((y-0.75*Ly)*(y-0.75*Ly))))+np.exp(-40.0*(((x-0.75*Lx)*(x-0.75*Lx))+((y-0.25*Ly)*(y-0.25*Ly)))))\n",
    "    return f\n",
    "def coeffK(x,y):\n",
    "    K=(np.logical_and(x<Lx/2, y<Ly/2)*0.1)+(np.logical_and(x<Lx/2,y>=Ly/2)*0.4)+(np.logical_and(x>=Lx/2,y>=Ly/2)*0.7)+(np.logical_and(x>=Lx/2,y<Ly/2)*1.0)\n",
    "    return K\n",
    "def create2DLFVM(Nx,Ny,LeftX,RightX,LeftY,RightY,coeffFun):\n",
    "    dx = (RightX-LeftX)/Nx # grid step in x-direction\n",
    "    dy =(RightY-LeftY)/Ny # grid step in y-direction\n",
    "    x=np.linspace(LeftX,RightX,Nx)\n",
    "    y=np.linspace(LeftY,RightY,Ny)\n",
    "    diag0=np.zeros((Nx-1)*(Ny-1))\n",
    "    diagimin1=np.zeros((Nx-1)*(Ny-1)-1)\n",
    "    diagiplus1=np.zeros((Nx-1)*(Ny-1)-1)\n",
    "    diagjmin1=np.zeros((Nx-1)*(Ny-2))\n",
    "    diagjplus1=np.zeros((Nx-1)*(Ny-2))\n",
    "    n0=0\n",
    "    nip1=0\n",
    "    nim1=0\n",
    "    njp1=0\n",
    "    njm1=0\n",
    "    for j in range(Ny-1):\n",
    "        for i in range(Nx-1):\n",
    "            diag0[n0]=(((coeffFun(x[i]-0.5*dx,y[j])+coeffFun(x[i]+0.5*dx,y[j]))/(dx**2))+((coeffFun(x[i],y[j]-0.5*dy)+coeffFun(x[i],y[j]+0.5*dy))/(dy)**2))\n",
    "            n0=n0+1\n",
    "            if (i<(Nx-2)):\n",
    "                diagiplus1[nip1]=((-coeffFun(x[i]+0.5*dx,y[j]))/(dx**2))\n",
    "                nip1=nip1+1\n",
    "            elif (i==Nx-2):\n",
    "                nip1=nip1+1\n",
    "            if (i>(0)):\n",
    "                diagimin1[nim1]=((-coeffFun(x[i]-0.5*dx,y[j]))/(dx**2))\n",
    "                nim1=nim1+1\n",
    "            elif (i==0) and (j>0):\n",
    "                nim1=nim1+1\n",
    "            if (j<(Ny-2)):\n",
    "                diagjplus1[njp1]=((-coeffFun(x[i],y[j]+0.5*dy)/(dy**2)))\n",
    "                njp1=njp1+1\n",
    "            if (j>(0)):\n",
    "                diagjmin1[njm1]=((-coeffFun(x[i],y[j]-0.5*dy))/(dy**2))\n",
    "                njm1=njm1+1    \n",
    "    A=sp.diags([diag0, diagimin1, diagiplus1, diagjmin1, diagjplus1] , [0, -1, 1, -Nx+1, Nx-1], shape=((Nx-1)*(Ny-1),(Nx-1)*(Ny-1)) , format='csc')\n",
    "    return A\n",
    "# def stepWave(u0Start,u1Start,tStart,dt,A,f,x,y,Nt):\n",
    "#     for i in range(2,Nt):\n",
    "#         uEnd=2*u1Start-u0Start+(h**2)*(-A*u1Start+f(x,y,tStart))\n",
    "#         tStart=tStart+2*dt\n",
    "#         u0Start=u1Start\n",
    "#         u1Start=uEnd\n",
    "#     return uEnd\n",
    "def stepWave(u0Start,u1Start,tStart,dt):\n",
    "    uEnd=2*u1Start-u0Start+(h**2)*(-A*u1Start+f(x,y,tStart+(2*dt)))\n",
    "    tStart=tStart+2*dt\n",
    "    u0Start=u1Start\n",
    "    u1Start=uEnd\n",
    "    return uEnd"
   ]
  },
  {
   "cell_type": "code",
   "execution_count": 4,
   "id": "a3a1115a",
   "metadata": {},
   "outputs": [
    {
     "name": "stdout",
     "output_type": "stream",
     "text": [
      "[[ 160.  -40.    0. ...    0.    0.    0.]\n",
      " [ -40.  160.  -40. ...    0.    0.    0.]\n",
      " [   0.  -40.  160. ...    0.    0.    0.]\n",
      " ...\n",
      " [   0.    0.    0. ... 1120. -280.    0.]\n",
      " [   0.    0.    0. ... -280. 1120. -280.]\n",
      " [   0.    0.    0. ...    0. -280. 1120.]]\n",
      "(19701, 19701)\n",
      "The stable time step is  0.0025000000000000005\n",
      "The stable number of time steps is  1599.9999999999998\n"
     ]
    }
   ],
   "source": [
    "#2.\n",
    "tStart=0\n",
    "tEnd=4\n",
    "A=create2DLFVM(Nx,Ny,LeftX,RightX,LeftY,RightY,coeffK)\n",
    "print(A.toarray())\n",
    "print(np.shape(A))\n",
    "val,vec=la.eigs(A)\n",
    "maxev=np.max(val)\n",
    "h=dx*dx\n",
    "Nt=(tEnd-tStart)/h\n",
    "# t=np.linspace(tStart,tEnd,Nt)\n",
    "x=np.linspace(LeftX,RightX,Nx)\n",
    "y=np.linspace(LeftY,RightY,Ny)\n",
    "# f=sourcefunc(x,y,tStart+h) \n",
    "print (\"The stable time step is \", h)\n",
    "print (\"The stable number of time steps is \", Nt)"
   ]
  },
  {
   "cell_type": "code",
   "execution_count": 28,
   "id": "51e4a0a5",
   "metadata": {},
   "outputs": [
    {
     "ename": "TypeError",
     "evalue": "'float' object cannot be interpreted as an integer",
     "output_type": "error",
     "traceback": [
      "\u001b[1;31m---------------------------------------------------------------------------\u001b[0m",
      "\u001b[1;31mTypeError\u001b[0m                                 Traceback (most recent call last)",
      "\u001b[1;32m<ipython-input-28-87ed88f18a4f>\u001b[0m in \u001b[0;36m<module>\u001b[1;34m\u001b[0m\n\u001b[0;32m     28\u001b[0m     \u001b[0mimg\u001b[0m\u001b[1;33m.\u001b[0m\u001b[0mset_clim\u001b[0m\u001b[1;33m(\u001b[0m\u001b[0mu3\u001b[0m\u001b[1;33m.\u001b[0m\u001b[0mmin\u001b[0m\u001b[1;33m(\u001b[0m\u001b[1;33m)\u001b[0m\u001b[1;33m,\u001b[0m\u001b[0mu3\u001b[0m\u001b[1;33m.\u001b[0m\u001b[0mmax\u001b[0m\u001b[1;33m(\u001b[0m\u001b[1;33m)\u001b[0m\u001b[1;33m)\u001b[0m\u001b[1;33m\u001b[0m\u001b[1;33m\u001b[0m\u001b[0m\n\u001b[0;32m     29\u001b[0m     \u001b[1;32mreturn\u001b[0m \u001b[0mimg\u001b[0m\u001b[1;33m\u001b[0m\u001b[1;33m\u001b[0m\u001b[0m\n\u001b[1;32m---> 30\u001b[1;33m \u001b[0manim\u001b[0m \u001b[1;33m=\u001b[0m \u001b[0manimation\u001b[0m\u001b[1;33m.\u001b[0m\u001b[0mFuncAnimation\u001b[0m\u001b[1;33m(\u001b[0m\u001b[0mfig\u001b[0m\u001b[1;33m,\u001b[0m\u001b[0manimate\u001b[0m\u001b[1;33m,\u001b[0m \u001b[0mNt\u001b[0m\u001b[1;33m-\u001b[0m\u001b[1;36m1\u001b[0m\u001b[1;33m,\u001b[0m\u001b[0minterval\u001b[0m\u001b[1;33m=\u001b[0m\u001b[1;36m50\u001b[0m\u001b[1;33m,\u001b[0m\u001b[0mrepeat\u001b[0m\u001b[1;33m=\u001b[0m\u001b[1;32mFalse\u001b[0m\u001b[1;33m)\u001b[0m\u001b[1;33m\u001b[0m\u001b[1;33m\u001b[0m\u001b[0m\n\u001b[0m\u001b[0;32m     31\u001b[0m \u001b[0mplt\u001b[0m\u001b[1;33m.\u001b[0m\u001b[0mpause\u001b[0m\u001b[1;33m(\u001b[0m\u001b[0mNt\u001b[0m\u001b[1;33m*\u001b[0m\u001b[1;36m5e-2\u001b[0m\u001b[1;33m)\u001b[0m\u001b[1;33m\u001b[0m\u001b[1;33m\u001b[0m\u001b[0m\n",
      "\u001b[1;32m~\\anaconda3\\lib\\site-packages\\matplotlib\\animation.py\u001b[0m in \u001b[0;36m__init__\u001b[1;34m(self, fig, func, frames, init_func, fargs, save_count, cache_frame_data, **kwargs)\u001b[0m\n\u001b[0;32m   1670\u001b[0m         \u001b[0mself\u001b[0m\u001b[1;33m.\u001b[0m\u001b[0m_save_seq\u001b[0m \u001b[1;33m=\u001b[0m \u001b[1;33m[\u001b[0m\u001b[1;33m]\u001b[0m\u001b[1;33m\u001b[0m\u001b[1;33m\u001b[0m\u001b[0m\n\u001b[0;32m   1671\u001b[0m \u001b[1;33m\u001b[0m\u001b[0m\n\u001b[1;32m-> 1672\u001b[1;33m         \u001b[0mTimedAnimation\u001b[0m\u001b[1;33m.\u001b[0m\u001b[0m__init__\u001b[0m\u001b[1;33m(\u001b[0m\u001b[0mself\u001b[0m\u001b[1;33m,\u001b[0m \u001b[0mfig\u001b[0m\u001b[1;33m,\u001b[0m \u001b[1;33m**\u001b[0m\u001b[0mkwargs\u001b[0m\u001b[1;33m)\u001b[0m\u001b[1;33m\u001b[0m\u001b[1;33m\u001b[0m\u001b[0m\n\u001b[0m\u001b[0;32m   1673\u001b[0m \u001b[1;33m\u001b[0m\u001b[0m\n\u001b[0;32m   1674\u001b[0m         \u001b[1;31m# Need to reset the saved seq, since right now it will contain data\u001b[0m\u001b[1;33m\u001b[0m\u001b[1;33m\u001b[0m\u001b[1;33m\u001b[0m\u001b[0m\n",
      "\u001b[1;32m~\\anaconda3\\lib\\site-packages\\matplotlib\\animation.py\u001b[0m in \u001b[0;36m__init__\u001b[1;34m(self, fig, interval, repeat_delay, repeat, event_source, *args, **kwargs)\u001b[0m\n\u001b[0;32m   1429\u001b[0m         \u001b[1;32mif\u001b[0m \u001b[0mevent_source\u001b[0m \u001b[1;32mis\u001b[0m \u001b[1;32mNone\u001b[0m\u001b[1;33m:\u001b[0m\u001b[1;33m\u001b[0m\u001b[1;33m\u001b[0m\u001b[0m\n\u001b[0;32m   1430\u001b[0m             \u001b[0mevent_source\u001b[0m \u001b[1;33m=\u001b[0m \u001b[0mfig\u001b[0m\u001b[1;33m.\u001b[0m\u001b[0mcanvas\u001b[0m\u001b[1;33m.\u001b[0m\u001b[0mnew_timer\u001b[0m\u001b[1;33m(\u001b[0m\u001b[0minterval\u001b[0m\u001b[1;33m=\u001b[0m\u001b[0mself\u001b[0m\u001b[1;33m.\u001b[0m\u001b[0m_interval\u001b[0m\u001b[1;33m)\u001b[0m\u001b[1;33m\u001b[0m\u001b[1;33m\u001b[0m\u001b[0m\n\u001b[1;32m-> 1431\u001b[1;33m         Animation.__init__(self, fig, event_source=event_source,\n\u001b[0m\u001b[0;32m   1432\u001b[0m                            *args, **kwargs)\n\u001b[0;32m   1433\u001b[0m \u001b[1;33m\u001b[0m\u001b[0m\n",
      "\u001b[1;32m~\\anaconda3\\lib\\site-packages\\matplotlib\\animation.py\u001b[0m in \u001b[0;36m__init__\u001b[1;34m(self, fig, event_source, blit)\u001b[0m\n\u001b[0;32m    947\u001b[0m         \u001b[1;31m# drawing is handled by the subclasses. The event source fires events\u001b[0m\u001b[1;33m\u001b[0m\u001b[1;33m\u001b[0m\u001b[1;33m\u001b[0m\u001b[0m\n\u001b[0;32m    948\u001b[0m         \u001b[1;31m# that cause the frame sequence to be iterated.\u001b[0m\u001b[1;33m\u001b[0m\u001b[1;33m\u001b[0m\u001b[1;33m\u001b[0m\u001b[0m\n\u001b[1;32m--> 949\u001b[1;33m         \u001b[0mself\u001b[0m\u001b[1;33m.\u001b[0m\u001b[0mframe_seq\u001b[0m \u001b[1;33m=\u001b[0m \u001b[0mself\u001b[0m\u001b[1;33m.\u001b[0m\u001b[0mnew_frame_seq\u001b[0m\u001b[1;33m(\u001b[0m\u001b[1;33m)\u001b[0m\u001b[1;33m\u001b[0m\u001b[1;33m\u001b[0m\u001b[0m\n\u001b[0m\u001b[0;32m    950\u001b[0m         \u001b[0mself\u001b[0m\u001b[1;33m.\u001b[0m\u001b[0mevent_source\u001b[0m \u001b[1;33m=\u001b[0m \u001b[0mevent_source\u001b[0m\u001b[1;33m\u001b[0m\u001b[1;33m\u001b[0m\u001b[0m\n\u001b[0;32m    951\u001b[0m \u001b[1;33m\u001b[0m\u001b[0m\n",
      "\u001b[1;32m~\\anaconda3\\lib\\site-packages\\matplotlib\\animation.py\u001b[0m in \u001b[0;36mnew_frame_seq\u001b[1;34m(self)\u001b[0m\n\u001b[0;32m   1678\u001b[0m     \u001b[1;32mdef\u001b[0m \u001b[0mnew_frame_seq\u001b[0m\u001b[1;33m(\u001b[0m\u001b[0mself\u001b[0m\u001b[1;33m)\u001b[0m\u001b[1;33m:\u001b[0m\u001b[1;33m\u001b[0m\u001b[1;33m\u001b[0m\u001b[0m\n\u001b[0;32m   1679\u001b[0m         \u001b[1;31m# Use the generating function to generate a new frame sequence\u001b[0m\u001b[1;33m\u001b[0m\u001b[1;33m\u001b[0m\u001b[1;33m\u001b[0m\u001b[0m\n\u001b[1;32m-> 1680\u001b[1;33m         \u001b[1;32mreturn\u001b[0m \u001b[0mself\u001b[0m\u001b[1;33m.\u001b[0m\u001b[0m_iter_gen\u001b[0m\u001b[1;33m(\u001b[0m\u001b[1;33m)\u001b[0m\u001b[1;33m\u001b[0m\u001b[1;33m\u001b[0m\u001b[0m\n\u001b[0m\u001b[0;32m   1681\u001b[0m \u001b[1;33m\u001b[0m\u001b[0m\n\u001b[0;32m   1682\u001b[0m     \u001b[1;32mdef\u001b[0m \u001b[0mnew_saved_frame_seq\u001b[0m\u001b[1;33m(\u001b[0m\u001b[0mself\u001b[0m\u001b[1;33m)\u001b[0m\u001b[1;33m:\u001b[0m\u001b[1;33m\u001b[0m\u001b[1;33m\u001b[0m\u001b[0m\n",
      "\u001b[1;32m~\\anaconda3\\lib\\site-packages\\matplotlib\\animation.py\u001b[0m in \u001b[0;36m<lambda>\u001b[1;34m()\u001b[0m\n\u001b[0;32m   1653\u001b[0m                 \u001b[0mself\u001b[0m\u001b[1;33m.\u001b[0m\u001b[0msave_count\u001b[0m \u001b[1;33m=\u001b[0m \u001b[0mlen\u001b[0m\u001b[1;33m(\u001b[0m\u001b[0mframes\u001b[0m\u001b[1;33m)\u001b[0m\u001b[1;33m\u001b[0m\u001b[1;33m\u001b[0m\u001b[0m\n\u001b[0;32m   1654\u001b[0m         \u001b[1;32melse\u001b[0m\u001b[1;33m:\u001b[0m\u001b[1;33m\u001b[0m\u001b[1;33m\u001b[0m\u001b[0m\n\u001b[1;32m-> 1655\u001b[1;33m             \u001b[0mself\u001b[0m\u001b[1;33m.\u001b[0m\u001b[0m_iter_gen\u001b[0m \u001b[1;33m=\u001b[0m \u001b[1;32mlambda\u001b[0m\u001b[1;33m:\u001b[0m \u001b[0miter\u001b[0m\u001b[1;33m(\u001b[0m\u001b[0mrange\u001b[0m\u001b[1;33m(\u001b[0m\u001b[0mframes\u001b[0m\u001b[1;33m)\u001b[0m\u001b[1;33m)\u001b[0m\u001b[1;33m\u001b[0m\u001b[1;33m\u001b[0m\u001b[0m\n\u001b[0m\u001b[0;32m   1656\u001b[0m             \u001b[0mself\u001b[0m\u001b[1;33m.\u001b[0m\u001b[0msave_count\u001b[0m \u001b[1;33m=\u001b[0m \u001b[0mframes\u001b[0m\u001b[1;33m\u001b[0m\u001b[1;33m\u001b[0m\u001b[0m\n\u001b[0;32m   1657\u001b[0m \u001b[1;33m\u001b[0m\u001b[0m\n",
      "\u001b[1;31mTypeError\u001b[0m: 'float' object cannot be interpreted as an integer"
     ]
    },
    {
     "data": {
      "image/png": "[encoded data removed]",
      "text/plain": [
       "<Figure size 432x288 with 2 Axes>"
      ]
     },
     "metadata": {
      "needs_background": "light"
     },
     "output_type": "display_data"
    }
   ],
   "source": [
    "#3.\n",
    "plt.ion()\n",
    "fig = plt.figure(1)\n",
    "plt.clf()\n",
    "t = 0\n",
    "u0=np.zeros((Nx-1)*(Ny-1))\n",
    "u1 = np.copy(u0)\n",
    "u2 = np.copy(u1)\n",
    "u3 = np.copy(u1)\n",
    "# figure initialization\n",
    "u3arr = np.reshape(u3,[Ny-1,Nx-1])\n",
    "img=plt.imshow(u3arr, extent=[dx/2,Lx-dx/2,Ly-dy/2,dy/2],interpolation='none')\n",
    "plt.gca().invert_yaxis()\n",
    "plt.colorbar(img, orientation='horizontal')\n",
    "tlt = plt.title(r\"$u(x,y,t), t =$ \"+str(np.round(t,3)))\n",
    "def animate(frame):\n",
    "#     ’’’This function updates\n",
    "#     the solution array’’’\n",
    "    global t, dt, Nx, Ny, u0, u1, u2, u3\n",
    "    t = frame*dt\n",
    "    if frame == 0:\n",
    "        u1 = np.copy(u0)\n",
    "    u3 = np.copy(stepWave(u1,u2,t,dt))\n",
    "    u1 = np.copy(u2)\n",
    "    u2 = np.copy(u3)\n",
    "    img.set_array(np.reshape(u3,[Ny-1,Nx-1]))\n",
    "    tlt.set_text(r\"$u(x,y,t), t =$ \"+str(np.round(t+2*dt,3)))\n",
    "    img.set_clim(u3.min(),u3.max())\n",
    "    return img\n",
    "anim = animation.FuncAnimation(fig,animate, Nt-1,interval=50,repeat=False)\n",
    "plt.pause(Nt*5e-2)"
   ]
  },
  {
   "cell_type": "code",
   "execution_count": 30,
   "id": "d1a5a62c",
   "metadata": {},
   "outputs": [
    {
     "name": "stdout",
     "output_type": "stream",
     "text": [
      "(19701, 1)\n"
     ]
    },
    {
     "ename": "NameError",
     "evalue": "name 'u1Start' is not defined",
     "output_type": "error",
     "traceback": [
      "\u001b[1;31m---------------------------------------------------------------------------\u001b[0m",
      "\u001b[1;31mNameError\u001b[0m                                 Traceback (most recent call last)",
      "\u001b[1;32m<ipython-input-30-1c87a76b552a>\u001b[0m in \u001b[0;36m<module>\u001b[1;34m\u001b[0m\n\u001b[0;32m      3\u001b[0m \u001b[0mu0Start\u001b[0m\u001b[1;33m=\u001b[0m\u001b[0mnp\u001b[0m\u001b[1;33m.\u001b[0m\u001b[0mreshape\u001b[0m\u001b[1;33m(\u001b[0m\u001b[0muStart\u001b[0m\u001b[1;33m,\u001b[0m\u001b[1;33m(\u001b[0m\u001b[1;33m(\u001b[0m\u001b[0mNx\u001b[0m\u001b[1;33m-\u001b[0m\u001b[1;36m1\u001b[0m\u001b[1;33m)\u001b[0m\u001b[1;33m*\u001b[0m\u001b[1;33m(\u001b[0m\u001b[0mNy\u001b[0m\u001b[1;33m-\u001b[0m\u001b[1;36m1\u001b[0m\u001b[1;33m)\u001b[0m\u001b[1;33m,\u001b[0m\u001b[1;36m1\u001b[0m\u001b[1;33m)\u001b[0m\u001b[1;33m)\u001b[0m\u001b[1;33m\u001b[0m\u001b[1;33m\u001b[0m\u001b[0m\n\u001b[0;32m      4\u001b[0m \u001b[0mprint\u001b[0m\u001b[1;33m(\u001b[0m\u001b[0mnp\u001b[0m\u001b[1;33m.\u001b[0m\u001b[0mshape\u001b[0m\u001b[1;33m(\u001b[0m\u001b[0muStart\u001b[0m\u001b[1;33m)\u001b[0m\u001b[1;33m)\u001b[0m\u001b[1;33m\u001b[0m\u001b[1;33m\u001b[0m\u001b[0m\n\u001b[1;32m----> 5\u001b[1;33m \u001b[0mu\u001b[0m\u001b[1;33m=\u001b[0m\u001b[0mstepWave\u001b[0m\u001b[1;33m(\u001b[0m\u001b[0mu0Start\u001b[0m\u001b[1;33m,\u001b[0m\u001b[0mu1Start\u001b[0m\u001b[1;33m,\u001b[0m\u001b[0mtStart\u001b[0m\u001b[1;33m,\u001b[0m\u001b[0mh\u001b[0m\u001b[1;33m)\u001b[0m\u001b[1;33m\u001b[0m\u001b[1;33m\u001b[0m\u001b[0m\n\u001b[0m\u001b[0;32m      6\u001b[0m \u001b[1;31m# print(u1FE)\u001b[0m\u001b[1;33m\u001b[0m\u001b[1;33m\u001b[0m\u001b[1;33m\u001b[0m\u001b[0m\n\u001b[0;32m      7\u001b[0m \u001b[1;31m# print(np.shape(u1FE))\u001b[0m\u001b[1;33m\u001b[0m\u001b[1;33m\u001b[0m\u001b[1;33m\u001b[0m\u001b[0m\n",
      "\u001b[1;31mNameError\u001b[0m: name 'u1Start' is not defined"
     ]
    }
   ],
   "source": [
    "#4.\n",
    "u0Start=np.zeros((Nx-1)*(Ny-1))\n",
    "u0Start=np.reshape(uStart,((Nx-1)*(Ny-1),1))\n",
    "print(np.shape(uStart))\n",
    "u=stepWave(u0Start,u1Start,tStart,h)\n",
    "# print(u1FE)\n",
    "# print(np.shape(u1FE))\n",
    "uArr = np.reshape(u,((Nx-1),(Ny-1)))\n",
    "plt.ion()\n",
    "plt.figure(2)\n",
    "plt.clf()\n",
    "plt.imshow(uArr.transpose(),extent=[LeftX,RightX, LeftY,RightY]) # use the f array here #,extent=[LeftX,RightX, LeftY,RightY]\n",
    "plt.colorbar()\n",
    "plt.xlabel('X values of the grid')\n",
    "plt.ylabel('Y values of the grid')\n",
    "plt.title('Heat map of the numerical approximation of u(x,y,T) for T=4')"
   ]
  },
  {
   "cell_type": "code",
   "execution_count": null,
   "id": "a223a0be",
   "metadata": {},
   "outputs": [],
   "source": []
  }
 ],
 "metadata": {
  "kernelspec": {
   "display_name": "Python 3",
   "language": "python",
   "name": "python3"
  },
  "language_info": {
   "codemirror_mode": {
    "name": "ipython",
    "version": 3
   },
   "file_extension": ".py",
   "mimetype": "text/x-python",
   "name": "python",
   "nbconvert_exporter": "python",
   "pygments_lexer": "ipython3",
   "version": "3.8.8"
  }
 },
 "nbformat": 4,
 "nbformat_minor": 5
}
